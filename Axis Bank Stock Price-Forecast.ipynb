{
 "cells": [
  {
   "cell_type": "markdown",
   "id": "6c68fce5-5c0f-47d8-b62a-1546953cfc25",
   "metadata": {},
   "source": [
    "# Axis Bank Stock Price-Forecast using AR-I-MA"
   ]
  },
  {
   "cell_type": "markdown",
   "id": "41af0920-de87-40de-919d-20d2135048c7",
   "metadata": {},
   "source": [
    "## Import necessary libraries"
   ]
  },
  {
   "cell_type": "code",
   "execution_count": 1,
   "id": "d8b513bf-f7c5-49c5-b9b4-990aa3a2935e",
   "metadata": {},
   "outputs": [],
   "source": [
    "import pandas as pd\n",
    "import yfinance as yf\n",
    "import datetime as dt\n",
    "from sklearn.preprocessing import MinMaxScaler\n",
    "from statsmodels.tsa.arima.model import ARIMA\n",
    "from sklearn.metrics import mean_squared_error, mean_absolute_percentage_error, r2_score\n",
    "import matplotlib.pyplot as plt"
   ]
  },
  {
   "cell_type": "markdown",
   "id": "d32ad2eb-698a-4568-8fb5-3e762cb4649d",
   "metadata": {},
   "source": [
    "## Stock Data Download"
   ]
  },
  {
   "cell_type": "code",
   "execution_count": 2,
   "id": "1d4f0ab4-f04b-4796-97c8-297bc6dd79f7",
   "metadata": {},
   "outputs": [],
   "source": [
    "# Define the start and end dates for data download\n",
    "start = dt.datetime(2021, 6, 1)\n",
    "end = dt.datetime(2024, 11, 26)\n",
    "symbol = 'AXISBANK.NS'"
   ]
  },
  {
   "cell_type": "code",
   "execution_count": 3,
   "id": "dcf99045-9b75-44a2-bf20-c8572e578af5",
   "metadata": {},
   "outputs": [
    {
     "name": "stderr",
     "output_type": "stream",
     "text": [
      "[*********************100%***********************]  1 of 1 completed\n"
     ]
    }
   ],
   "source": [
    "# Download historical stock data using yfinance\n",
    "stk_data = yf.download(symbol, start=start, end=end)\n",
    "stk_data = stk_data[['Open', 'High', 'Low', 'Close']]"
   ]
  },
  {
   "cell_type": "code",
   "execution_count": 4,
   "id": "4d7dc6de-4bfa-4aee-8725-ede1b2831163",
   "metadata": {},
   "outputs": [
    {
     "data": {
      "text/html": [
       "<div>\n",
       "<style scoped>\n",
       "    .dataframe tbody tr th:only-of-type {\n",
       "        vertical-align: middle;\n",
       "    }\n",
       "\n",
       "    .dataframe tbody tr th {\n",
       "        vertical-align: top;\n",
       "    }\n",
       "\n",
       "    .dataframe thead tr th {\n",
       "        text-align: left;\n",
       "    }\n",
       "\n",
       "    .dataframe thead tr:last-of-type th {\n",
       "        text-align: right;\n",
       "    }\n",
       "</style>\n",
       "<table border=\"1\" class=\"dataframe\">\n",
       "  <thead>\n",
       "    <tr>\n",
       "      <th>Price</th>\n",
       "      <th>Open</th>\n",
       "      <th>High</th>\n",
       "      <th>Low</th>\n",
       "      <th>Close</th>\n",
       "    </tr>\n",
       "    <tr>\n",
       "      <th>Ticker</th>\n",
       "      <th>AXISBANK.NS</th>\n",
       "      <th>AXISBANK.NS</th>\n",
       "      <th>AXISBANK.NS</th>\n",
       "      <th>AXISBANK.NS</th>\n",
       "    </tr>\n",
       "    <tr>\n",
       "      <th>Date</th>\n",
       "      <th></th>\n",
       "      <th></th>\n",
       "      <th></th>\n",
       "      <th></th>\n",
       "    </tr>\n",
       "  </thead>\n",
       "  <tbody>\n",
       "    <tr>\n",
       "      <th>2021-06-01</th>\n",
       "      <td>753.549988</td>\n",
       "      <td>754.000000</td>\n",
       "      <td>741.150024</td>\n",
       "      <td>745.150024</td>\n",
       "    </tr>\n",
       "    <tr>\n",
       "      <th>2021-06-02</th>\n",
       "      <td>744.799988</td>\n",
       "      <td>745.299988</td>\n",
       "      <td>734.200012</td>\n",
       "      <td>737.000000</td>\n",
       "    </tr>\n",
       "    <tr>\n",
       "      <th>2021-06-03</th>\n",
       "      <td>743.000000</td>\n",
       "      <td>752.250000</td>\n",
       "      <td>739.000000</td>\n",
       "      <td>750.650024</td>\n",
       "    </tr>\n",
       "    <tr>\n",
       "      <th>2021-06-04</th>\n",
       "      <td>751.000000</td>\n",
       "      <td>759.900024</td>\n",
       "      <td>740.099976</td>\n",
       "      <td>742.049988</td>\n",
       "    </tr>\n",
       "    <tr>\n",
       "      <th>2021-06-07</th>\n",
       "      <td>743.099976</td>\n",
       "      <td>753.950012</td>\n",
       "      <td>741.500000</td>\n",
       "      <td>751.099976</td>\n",
       "    </tr>\n",
       "  </tbody>\n",
       "</table>\n",
       "</div>"
      ],
      "text/plain": [
       "Price             Open        High         Low       Close\n",
       "Ticker     AXISBANK.NS AXISBANK.NS AXISBANK.NS AXISBANK.NS\n",
       "Date                                                      \n",
       "2021-06-01  753.549988  754.000000  741.150024  745.150024\n",
       "2021-06-02  744.799988  745.299988  734.200012  737.000000\n",
       "2021-06-03  743.000000  752.250000  739.000000  750.650024\n",
       "2021-06-04  751.000000  759.900024  740.099976  742.049988\n",
       "2021-06-07  743.099976  753.950012  741.500000  751.099976"
      ]
     },
     "execution_count": 4,
     "metadata": {},
     "output_type": "execute_result"
    }
   ],
   "source": [
    "stk_data.head()"
   ]
  },
  {
   "cell_type": "code",
   "execution_count": 5,
   "id": "2787c2cf-2f59-423d-9d4e-5c682520a308",
   "metadata": {},
   "outputs": [
    {
     "data": {
      "text/html": [
       "<div>\n",
       "<style scoped>\n",
       "    .dataframe tbody tr th:only-of-type {\n",
       "        vertical-align: middle;\n",
       "    }\n",
       "\n",
       "    .dataframe tbody tr th {\n",
       "        vertical-align: top;\n",
       "    }\n",
       "\n",
       "    .dataframe thead tr th {\n",
       "        text-align: left;\n",
       "    }\n",
       "\n",
       "    .dataframe thead tr:last-of-type th {\n",
       "        text-align: right;\n",
       "    }\n",
       "</style>\n",
       "<table border=\"1\" class=\"dataframe\">\n",
       "  <thead>\n",
       "    <tr>\n",
       "      <th>Price</th>\n",
       "      <th>Open</th>\n",
       "      <th>High</th>\n",
       "      <th>Low</th>\n",
       "      <th>Close</th>\n",
       "    </tr>\n",
       "    <tr>\n",
       "      <th>Ticker</th>\n",
       "      <th>AXISBANK.NS</th>\n",
       "      <th>AXISBANK.NS</th>\n",
       "      <th>AXISBANK.NS</th>\n",
       "      <th>AXISBANK.NS</th>\n",
       "    </tr>\n",
       "    <tr>\n",
       "      <th>Date</th>\n",
       "      <th></th>\n",
       "      <th></th>\n",
       "      <th></th>\n",
       "      <th></th>\n",
       "    </tr>\n",
       "  </thead>\n",
       "  <tbody>\n",
       "    <tr>\n",
       "      <th>2024-11-18</th>\n",
       "      <td>1131.199951</td>\n",
       "      <td>1135.000000</td>\n",
       "      <td>1121.550049</td>\n",
       "      <td>1126.199951</td>\n",
       "    </tr>\n",
       "    <tr>\n",
       "      <th>2024-11-19</th>\n",
       "      <td>1130.000000</td>\n",
       "      <td>1139.000000</td>\n",
       "      <td>1122.050049</td>\n",
       "      <td>1133.949951</td>\n",
       "    </tr>\n",
       "    <tr>\n",
       "      <th>2024-11-21</th>\n",
       "      <td>1138.000000</td>\n",
       "      <td>1152.000000</td>\n",
       "      <td>1115.750000</td>\n",
       "      <td>1139.150024</td>\n",
       "    </tr>\n",
       "    <tr>\n",
       "      <th>2024-11-22</th>\n",
       "      <td>1136.650024</td>\n",
       "      <td>1147.900024</td>\n",
       "      <td>1127.550049</td>\n",
       "      <td>1142.400024</td>\n",
       "    </tr>\n",
       "    <tr>\n",
       "      <th>2024-11-25</th>\n",
       "      <td>1160.000000</td>\n",
       "      <td>1164.500000</td>\n",
       "      <td>1142.000000</td>\n",
       "      <td>1155.900024</td>\n",
       "    </tr>\n",
       "  </tbody>\n",
       "</table>\n",
       "</div>"
      ],
      "text/plain": [
       "Price              Open         High          Low        Close\n",
       "Ticker      AXISBANK.NS  AXISBANK.NS  AXISBANK.NS  AXISBANK.NS\n",
       "Date                                                          \n",
       "2024-11-18  1131.199951  1135.000000  1121.550049  1126.199951\n",
       "2024-11-19  1130.000000  1139.000000  1122.050049  1133.949951\n",
       "2024-11-21  1138.000000  1152.000000  1115.750000  1139.150024\n",
       "2024-11-22  1136.650024  1147.900024  1127.550049  1142.400024\n",
       "2024-11-25  1160.000000  1164.500000  1142.000000  1155.900024"
      ]
     },
     "execution_count": 5,
     "metadata": {},
     "output_type": "execute_result"
    }
   ],
   "source": [
    "stk_data.tail()"
   ]
  },
  {
   "cell_type": "markdown",
   "id": "7b657ea6-14e8-487d-8040-e2855da7a9ae",
   "metadata": {},
   "source": [
    "## Data preprocessing"
   ]
  },
  {
   "cell_type": "code",
   "execution_count": 6,
   "id": "4c782822-4b43-4e1c-9aba-8e8d987e6a55",
   "metadata": {},
   "outputs": [
    {
     "name": "stdout",
     "output_type": "stream",
     "text": [
      "len: (862, 1)\n"
     ]
    }
   ],
   "source": [
    "# Normalize the 'Close' column using MinMaxScaler\n",
    "column = 'Close'\n",
    "ms = MinMaxScaler()\n",
    "data1 = ms.fit_transform(stk_data[[column]])  \n",
    "print('len:', data1.shape)"
   ]
  },
  {
   "cell_type": "code",
   "execution_count": 7,
   "id": "027da7f6-134b-4032-82e0-1565d2d2e26b",
   "metadata": {
    "scrolled": true
   },
   "outputs": [
    {
     "data": {
      "text/plain": [
       "array([[0.17289487],\n",
       "       [0.16111312],\n",
       "       [0.18084572],\n",
       "       [0.16841343],\n",
       "       [0.18149617],\n",
       "       [0.17462953],\n",
       "       [0.16075172],\n",
       "       [0.17159379],\n",
       "       [0.16320927],\n",
       "       [0.16002892]])"
      ]
     },
     "execution_count": 7,
     "metadata": {},
     "output_type": "execute_result"
    }
   ],
   "source": [
    "data1[:10]"
   ]
  },
  {
   "cell_type": "code",
   "execution_count": 8,
   "id": "a0e6c0e5-e79f-4a27-90dd-733436323479",
   "metadata": {},
   "outputs": [
    {
     "name": "stdout",
     "output_type": "stream",
     "text": [
      "X_train length: (690, 1)\n",
      "X_test length: (172, 1)\n",
      "y_train length: (690, 1)\n",
      "y_test length: (172, 1)\n"
     ]
    }
   ],
   "source": [
    "# Split the data into training and test sets (80% training, 20% test)\n",
    "training_size = round(len(data1) * 0.80)\n",
    "X_train = data1[:training_size]\n",
    "X_test = data1[training_size:]\n",
    "y_train = data1[:training_size]\n",
    "y_test = data1[training_size:]\n",
    "\n",
    "print(\"X_train length:\", X_train.shape)\n",
    "print(\"X_test length:\", X_test.shape)\n",
    "print(\"y_train length:\", y_train.shape)\n",
    "print(\"y_test length:\", y_test.shape)"
   ]
  },
  {
   "cell_type": "code",
   "execution_count": 9,
   "id": "a84f873e-60a9-4231-bfa6-09fdd16ab9e9",
   "metadata": {
    "scrolled": true
   },
   "outputs": [
    {
     "data": {
      "text/plain": [
       "array([[0.17289487],\n",
       "       [0.16111312],\n",
       "       [0.18084572],\n",
       "       [0.16841343],\n",
       "       [0.18149617],\n",
       "       [0.17462953],\n",
       "       [0.16075172],\n",
       "       [0.17159379],\n",
       "       [0.16320927],\n",
       "       [0.16002892]])"
      ]
     },
     "execution_count": 9,
     "metadata": {},
     "output_type": "execute_result"
    }
   ],
   "source": [
    "X_train[:10]"
   ]
  },
  {
   "cell_type": "code",
   "execution_count": 10,
   "id": "90a4192f-5d50-4590-84e3-a37a340336af",
   "metadata": {
    "scrolled": true
   },
   "outputs": [
    {
     "data": {
      "text/plain": [
       "array([[0.65753523],\n",
       "       [0.62551496],\n",
       "       [0.60838453],\n",
       "       [0.62999631],\n",
       "       [0.61474525],\n",
       "       [0.59154315],\n",
       "       [0.59277189],\n",
       "       [0.58944709],\n",
       "       [0.59992775],\n",
       "       [0.61770864]])"
      ]
     },
     "execution_count": 10,
     "metadata": {},
     "output_type": "execute_result"
    }
   ],
   "source": [
    "y_test[:10]"
   ]
  },
  {
   "cell_type": "code",
   "execution_count": 11,
   "id": "057852e8-e8c8-4711-9d01-eb7509e2180b",
   "metadata": {},
   "outputs": [],
   "source": [
    "import warnings\n",
    "warnings.filterwarnings(\"ignore\")"
   ]
  },
  {
   "cell_type": "markdown",
   "id": "47ce5db9-e6a9-497b-bef4-4ee7e209b251",
   "metadata": {},
   "source": [
    "## ARIMA Model Tuning"
   ]
  },
  {
   "cell_type": "code",
   "execution_count": 12,
   "id": "35055662-9294-4c18-a2f8-160100e70a25",
   "metadata": {},
   "outputs": [
    {
     "name": "stdout",
     "output_type": "stream",
     "text": [
      "Order (1, 1, 1): RMSE = 0.021199121208817357, MAPE = 128797499958.72453\n",
      "Order (1, 1, 2): RMSE = 0.021089728725114172, MAPE = 127206816193.47932\n",
      "Order (2, 3, 1): RMSE = 0.025168000542265163, MAPE = 158288592930.2114\n",
      "Order (2, 2, 2): RMSE = 0.021515797393769943, MAPE = 124248780216.24434\n"
     ]
    }
   ],
   "source": [
    "# Test different ARIMA orders to identify the best performing one\n",
    "orders = [(1, 1, 1), (1, 1, 2), (2, 3, 1), (2, 2, 2)]\n",
    "\n",
    "# Loop through the different ARIMA model orders\n",
    "for order in orders:\n",
    "    model = ARIMA(data1, order=order)\n",
    "    model_fit = model.fit()  # Fit the ARIMA model\n",
    "    \n",
    "    # Make predictions\n",
    "    y_pred = model_fit.predict(0, len(data1)-1)\n",
    "    \n",
    "    # Evaluate the model using RMSE and MAPE\n",
    "    rmse = mean_squared_error(data1, y_pred, squared=False)\n",
    "    mape = mean_absolute_percentage_error(data1, y_pred)\n",
    "    print(f\"Order {order}: RMSE = {rmse}, MAPE = {mape}\")"
   ]
  },
  {
   "cell_type": "markdown",
   "id": "37094aec-01c8-4857-884f-7c1d3e6283da",
   "metadata": {},
   "source": [
    "## Selecting Best ARIMA Model"
   ]
  },
  {
   "cell_type": "code",
   "execution_count": 13,
   "id": "66fa9034-b054-4d1a-b233-54a3e70e0ac8",
   "metadata": {},
   "outputs": [],
   "source": [
    "best_order = (1, 1, 1)\n",
    "model = ARIMA(data1, order=best_order)\n",
    "model_fit = model.fit()\n",
    "\n",
    "# Predict using the ARIMA model\n",
    "y_pred = model_fit.predict(0, len(data1) - 1)"
   ]
  },
  {
   "cell_type": "code",
   "execution_count": 14,
   "id": "c6632142-7463-43df-9f23-cdb6e41265bf",
   "metadata": {
    "scrolled": true
   },
   "outputs": [
    {
     "data": {
      "text/plain": [
       "array([0.        , 0.17289487, 0.16141108, 0.18009877, 0.16936503,\n",
       "       0.1803547 , 0.17578557, 0.16007309, 0.1719302 , 0.16311214])"
      ]
     },
     "execution_count": 14,
     "metadata": {},
     "output_type": "execute_result"
    }
   ],
   "source": [
    "y_pred[:10]"
   ]
  },
  {
   "cell_type": "markdown",
   "id": "629b6383-2199-44bd-8926-de03d55b2a71",
   "metadata": {},
   "source": [
    "## Model Evaluation"
   ]
  },
  {
   "cell_type": "code",
   "execution_count": 15,
   "id": "f0de870c-babf-4227-a067-a618ba828c53",
   "metadata": {},
   "outputs": [
    {
     "name": "stdout",
     "output_type": "stream",
     "text": [
      "Best Order ((1, 1, 1)):\n",
      "RMSE-Testset: 0.021199121208817357\n",
      "MAE-Testset: 128797499958.72453\n",
      "R^2-Testset: 0.9931091715352924\n",
      "*************\n"
     ]
    }
   ],
   "source": [
    "# Calculate evaluation metrics for model performance\n",
    "rmse = mean_squared_error(data1, y_pred, squared=False)\n",
    "mape = mean_absolute_percentage_error(data1, y_pred)\n",
    "r2 = r2_score(data1, y_pred)\n",
    "print(f\"Best Order ({best_order}):\")\n",
    "print(f\"RMSE-Testset: {rmse}\")\n",
    "print(f\"MAE-Testset: {mape}\")\n",
    "print(f\"R^2-Testset: {r2}\")\n",
    "print('*************')"
   ]
  },
  {
   "cell_type": "markdown",
   "id": "e8847e87-5571-4b13-8fbf-17916765578d",
   "metadata": {},
   "source": [
    "## Visualization (Normalized Data)"
   ]
  },
  {
   "cell_type": "code",
   "execution_count": 16,
   "id": "e07886d5-9d22-4777-a57e-8e45681650b1",
   "metadata": {},
   "outputs": [
    {
     "data": {
      "image/png": "[encoded data removed]",
      "text/plain": [
       "<Figure size 1000x500 with 1 Axes>"
      ]
     },
     "metadata": {},
     "output_type": "display_data"
    }
   ],
   "source": [
    "# Plot the actual vs predicted values for normalized data\n",
    "plt.figure(figsize=(10, 5))\n",
    "plt.plot(data1, color='blue', label=\"Actual\")\n",
    "plt.plot(y_pred, color='green', label=\"Predicted\")\n",
    "plt.title(\"AXISBANK-Close-AR-Norm\")\n",
    "plt.xlabel(\"Days\")\n",
    "plt.ylabel(\"Prices\")\n",
    "plt.legend()\n",
    "plt.show()"
   ]
  },
  {
   "cell_type": "markdown",
   "id": "5bc55d4d-7cc3-443b-982b-b4b00108084e",
   "metadata": {},
   "source": [
    "## Inverse Transform and Visualization (Original Data)"
   ]
  },
  {
   "cell_type": "code",
   "execution_count": 17,
   "id": "165f96e2-5390-4f73-bff2-456be97ee903",
   "metadata": {},
   "outputs": [],
   "source": [
    "# Inverse transform the normalized data to original scale for better interpretability\n",
    "aTestNormTable = pd.DataFrame(data1, columns=[column])\n",
    "actual_stock_price_test_ori = ms.inverse_transform(aTestNormTable)\n",
    "actual_stock_price_test_oriA = pd.DataFrame(actual_stock_price_test_ori, columns=[column])"
   ]
  },
  {
   "cell_type": "code",
   "execution_count": 18,
   "id": "88d33fc2-02c1-4e52-9582-a05280996009",
   "metadata": {},
   "outputs": [
    {
     "data": {
      "text/html": [
       "<div>\n",
       "<style scoped>\n",
       "    .dataframe tbody tr th:only-of-type {\n",
       "        vertical-align: middle;\n",
       "    }\n",
       "\n",
       "    .dataframe tbody tr th {\n",
       "        vertical-align: top;\n",
       "    }\n",
       "\n",
       "    .dataframe thead th {\n",
       "        text-align: right;\n",
       "    }\n",
       "</style>\n",
       "<table border=\"1\" class=\"dataframe\">\n",
       "  <thead>\n",
       "    <tr style=\"text-align: right;\">\n",
       "      <th></th>\n",
       "      <th>Close</th>\n",
       "    </tr>\n",
       "  </thead>\n",
       "  <tbody>\n",
       "    <tr>\n",
       "      <th>0</th>\n",
       "      <td>0.172895</td>\n",
       "    </tr>\n",
       "    <tr>\n",
       "      <th>1</th>\n",
       "      <td>0.161113</td>\n",
       "    </tr>\n",
       "    <tr>\n",
       "      <th>2</th>\n",
       "      <td>0.180846</td>\n",
       "    </tr>\n",
       "    <tr>\n",
       "      <th>3</th>\n",
       "      <td>0.168413</td>\n",
       "    </tr>\n",
       "    <tr>\n",
       "      <th>4</th>\n",
       "      <td>0.181496</td>\n",
       "    </tr>\n",
       "    <tr>\n",
       "      <th>...</th>\n",
       "      <td>...</td>\n",
       "    </tr>\n",
       "    <tr>\n",
       "      <th>857</th>\n",
       "      <td>0.723744</td>\n",
       "    </tr>\n",
       "    <tr>\n",
       "      <th>858</th>\n",
       "      <td>0.734947</td>\n",
       "    </tr>\n",
       "    <tr>\n",
       "      <th>859</th>\n",
       "      <td>0.742465</td>\n",
       "    </tr>\n",
       "    <tr>\n",
       "      <th>860</th>\n",
       "      <td>0.747163</td>\n",
       "    </tr>\n",
       "    <tr>\n",
       "      <th>861</th>\n",
       "      <td>0.766679</td>\n",
       "    </tr>\n",
       "  </tbody>\n",
       "</table>\n",
       "<p>862 rows × 1 columns</p>\n",
       "</div>"
      ],
      "text/plain": [
       "        Close\n",
       "0    0.172895\n",
       "1    0.161113\n",
       "2    0.180846\n",
       "3    0.168413\n",
       "4    0.181496\n",
       "..        ...\n",
       "857  0.723744\n",
       "858  0.734947\n",
       "859  0.742465\n",
       "860  0.747163\n",
       "861  0.766679\n",
       "\n",
       "[862 rows x 1 columns]"
      ]
     },
     "execution_count": 18,
     "metadata": {},
     "output_type": "execute_result"
    }
   ],
   "source": [
    "aTestNormTable"
   ]
  },
  {
   "cell_type": "code",
   "execution_count": 19,
   "id": "da8924ee-dcf1-48e4-9140-cfbaa1709e9e",
   "metadata": {
    "scrolled": true
   },
   "outputs": [
    {
     "data": {
      "text/plain": [
       "array([[745.15002441],\n",
       "       [737.        ],\n",
       "       [750.65002441],\n",
       "       [742.04998779],\n",
       "       [751.09997559],\n",
       "       [746.34997559],\n",
       "       [736.75      ],\n",
       "       [744.25      ],\n",
       "       [738.45001221],\n",
       "       [736.25      ]])"
      ]
     },
     "execution_count": 19,
     "metadata": {},
     "output_type": "execute_result"
    }
   ],
   "source": [
    "actual_stock_price_test_ori[:10]"
   ]
  },
  {
   "cell_type": "code",
   "execution_count": 20,
   "id": "af115e75-98b8-4ce0-846f-c2658b7ca5fe",
   "metadata": {},
   "outputs": [
    {
     "data": {
      "text/html": [
       "<div>\n",
       "<style scoped>\n",
       "    .dataframe tbody tr th:only-of-type {\n",
       "        vertical-align: middle;\n",
       "    }\n",
       "\n",
       "    .dataframe tbody tr th {\n",
       "        vertical-align: top;\n",
       "    }\n",
       "\n",
       "    .dataframe thead th {\n",
       "        text-align: right;\n",
       "    }\n",
       "</style>\n",
       "<table border=\"1\" class=\"dataframe\">\n",
       "  <thead>\n",
       "    <tr style=\"text-align: right;\">\n",
       "      <th></th>\n",
       "      <th>Close</th>\n",
       "    </tr>\n",
       "  </thead>\n",
       "  <tbody>\n",
       "    <tr>\n",
       "      <th>0</th>\n",
       "      <td>745.150024</td>\n",
       "    </tr>\n",
       "    <tr>\n",
       "      <th>1</th>\n",
       "      <td>737.000000</td>\n",
       "    </tr>\n",
       "    <tr>\n",
       "      <th>2</th>\n",
       "      <td>750.650024</td>\n",
       "    </tr>\n",
       "    <tr>\n",
       "      <th>3</th>\n",
       "      <td>742.049988</td>\n",
       "    </tr>\n",
       "    <tr>\n",
       "      <th>4</th>\n",
       "      <td>751.099976</td>\n",
       "    </tr>\n",
       "    <tr>\n",
       "      <th>...</th>\n",
       "      <td>...</td>\n",
       "    </tr>\n",
       "    <tr>\n",
       "      <th>857</th>\n",
       "      <td>1126.199951</td>\n",
       "    </tr>\n",
       "    <tr>\n",
       "      <th>858</th>\n",
       "      <td>1133.949951</td>\n",
       "    </tr>\n",
       "    <tr>\n",
       "      <th>859</th>\n",
       "      <td>1139.150024</td>\n",
       "    </tr>\n",
       "    <tr>\n",
       "      <th>860</th>\n",
       "      <td>1142.400024</td>\n",
       "    </tr>\n",
       "    <tr>\n",
       "      <th>861</th>\n",
       "      <td>1155.900024</td>\n",
       "    </tr>\n",
       "  </tbody>\n",
       "</table>\n",
       "<p>862 rows × 1 columns</p>\n",
       "</div>"
      ],
      "text/plain": [
       "           Close\n",
       "0     745.150024\n",
       "1     737.000000\n",
       "2     750.650024\n",
       "3     742.049988\n",
       "4     751.099976\n",
       "..           ...\n",
       "857  1126.199951\n",
       "858  1133.949951\n",
       "859  1139.150024\n",
       "860  1142.400024\n",
       "861  1155.900024\n",
       "\n",
       "[862 rows x 1 columns]"
      ]
     },
     "execution_count": 20,
     "metadata": {},
     "output_type": "execute_result"
    }
   ],
   "source": [
    "actual_stock_price_test_oriA"
   ]
  },
  {
   "cell_type": "code",
   "execution_count": 21,
   "id": "f2b3e93d-3919-4f30-8d72-51b7ad6d6a70",
   "metadata": {},
   "outputs": [],
   "source": [
    "# Inverse transform the predicted values back to the original scale\n",
    "pTestNormTable = pd.DataFrame(y_pred, columns=[column])\n",
    "predicted_stock_price_test_ori = ms.inverse_transform(pTestNormTable)\n",
    "predicted_stock_price_test_oriP = pd.DataFrame(predicted_stock_price_test_ori, columns=[column])"
   ]
  },
  {
   "cell_type": "code",
   "execution_count": 22,
   "id": "5a57a72d-bb9e-4cdf-9c65-134ddd4d6081",
   "metadata": {},
   "outputs": [
    {
     "data": {
      "text/html": [
       "<div>\n",
       "<style scoped>\n",
       "    .dataframe tbody tr th:only-of-type {\n",
       "        vertical-align: middle;\n",
       "    }\n",
       "\n",
       "    .dataframe tbody tr th {\n",
       "        vertical-align: top;\n",
       "    }\n",
       "\n",
       "    .dataframe thead th {\n",
       "        text-align: right;\n",
       "    }\n",
       "</style>\n",
       "<table border=\"1\" class=\"dataframe\">\n",
       "  <thead>\n",
       "    <tr style=\"text-align: right;\">\n",
       "      <th></th>\n",
       "      <th>Close</th>\n",
       "    </tr>\n",
       "  </thead>\n",
       "  <tbody>\n",
       "    <tr>\n",
       "      <th>0</th>\n",
       "      <td>0.000000</td>\n",
       "    </tr>\n",
       "    <tr>\n",
       "      <th>1</th>\n",
       "      <td>0.172895</td>\n",
       "    </tr>\n",
       "    <tr>\n",
       "      <th>2</th>\n",
       "      <td>0.161411</td>\n",
       "    </tr>\n",
       "    <tr>\n",
       "      <th>3</th>\n",
       "      <td>0.180099</td>\n",
       "    </tr>\n",
       "    <tr>\n",
       "      <th>4</th>\n",
       "      <td>0.169365</td>\n",
       "    </tr>\n",
       "    <tr>\n",
       "      <th>...</th>\n",
       "      <td>...</td>\n",
       "    </tr>\n",
       "    <tr>\n",
       "      <th>857</th>\n",
       "      <td>0.745451</td>\n",
       "    </tr>\n",
       "    <tr>\n",
       "      <th>858</th>\n",
       "      <td>0.723577</td>\n",
       "    </tr>\n",
       "    <tr>\n",
       "      <th>859</th>\n",
       "      <td>0.734835</td>\n",
       "    </tr>\n",
       "    <tr>\n",
       "      <th>860</th>\n",
       "      <td>0.742389</td>\n",
       "    </tr>\n",
       "    <tr>\n",
       "      <th>861</th>\n",
       "      <td>0.747120</td>\n",
       "    </tr>\n",
       "  </tbody>\n",
       "</table>\n",
       "<p>862 rows × 1 columns</p>\n",
       "</div>"
      ],
      "text/plain": [
       "        Close\n",
       "0    0.000000\n",
       "1    0.172895\n",
       "2    0.161411\n",
       "3    0.180099\n",
       "4    0.169365\n",
       "..        ...\n",
       "857  0.745451\n",
       "858  0.723577\n",
       "859  0.734835\n",
       "860  0.742389\n",
       "861  0.747120\n",
       "\n",
       "[862 rows x 1 columns]"
      ]
     },
     "execution_count": 22,
     "metadata": {},
     "output_type": "execute_result"
    }
   ],
   "source": [
    "pTestNormTable"
   ]
  },
  {
   "cell_type": "code",
   "execution_count": 23,
   "id": "2e68b7a2-c98d-4411-b179-2dedf504d33d",
   "metadata": {
    "scrolled": true
   },
   "outputs": [
    {
     "data": {
      "text/plain": [
       "array([[625.54998779],\n",
       "       [745.15002441],\n",
       "       [737.20611003],\n",
       "       [750.13332301],\n",
       "       [742.70825723],\n",
       "       [750.31036382],\n",
       "       [747.1496683 ],\n",
       "       [736.28055811],\n",
       "       [744.48271452],\n",
       "       [738.38281939]])"
      ]
     },
     "execution_count": 23,
     "metadata": {},
     "output_type": "execute_result"
    }
   ],
   "source": [
    "predicted_stock_price_test_ori[:10]"
   ]
  },
  {
   "cell_type": "code",
   "execution_count": 24,
   "id": "53549507-7d16-40e5-a139-c625356981dd",
   "metadata": {},
   "outputs": [
    {
     "data": {
      "text/html": [
       "<div>\n",
       "<style scoped>\n",
       "    .dataframe tbody tr th:only-of-type {\n",
       "        vertical-align: middle;\n",
       "    }\n",
       "\n",
       "    .dataframe tbody tr th {\n",
       "        vertical-align: top;\n",
       "    }\n",
       "\n",
       "    .dataframe thead th {\n",
       "        text-align: right;\n",
       "    }\n",
       "</style>\n",
       "<table border=\"1\" class=\"dataframe\">\n",
       "  <thead>\n",
       "    <tr style=\"text-align: right;\">\n",
       "      <th></th>\n",
       "      <th>Close</th>\n",
       "    </tr>\n",
       "  </thead>\n",
       "  <tbody>\n",
       "    <tr>\n",
       "      <th>0</th>\n",
       "      <td>625.549988</td>\n",
       "    </tr>\n",
       "    <tr>\n",
       "      <th>1</th>\n",
       "      <td>745.150024</td>\n",
       "    </tr>\n",
       "    <tr>\n",
       "      <th>2</th>\n",
       "      <td>737.206110</td>\n",
       "    </tr>\n",
       "    <tr>\n",
       "      <th>3</th>\n",
       "      <td>750.133323</td>\n",
       "    </tr>\n",
       "    <tr>\n",
       "      <th>4</th>\n",
       "      <td>742.708257</td>\n",
       "    </tr>\n",
       "    <tr>\n",
       "      <th>...</th>\n",
       "      <td>...</td>\n",
       "    </tr>\n",
       "    <tr>\n",
       "      <th>857</th>\n",
       "      <td>1141.216062</td>\n",
       "    </tr>\n",
       "    <tr>\n",
       "      <th>858</th>\n",
       "      <td>1126.084269</td>\n",
       "    </tr>\n",
       "    <tr>\n",
       "      <th>859</th>\n",
       "      <td>1133.872336</td>\n",
       "    </tr>\n",
       "    <tr>\n",
       "      <th>860</th>\n",
       "      <td>1139.097942</td>\n",
       "    </tr>\n",
       "    <tr>\n",
       "      <th>861</th>\n",
       "      <td>1142.370585</td>\n",
       "    </tr>\n",
       "  </tbody>\n",
       "</table>\n",
       "<p>862 rows × 1 columns</p>\n",
       "</div>"
      ],
      "text/plain": [
       "           Close\n",
       "0     625.549988\n",
       "1     745.150024\n",
       "2     737.206110\n",
       "3     750.133323\n",
       "4     742.708257\n",
       "..           ...\n",
       "857  1141.216062\n",
       "858  1126.084269\n",
       "859  1133.872336\n",
       "860  1139.097942\n",
       "861  1142.370585\n",
       "\n",
       "[862 rows x 1 columns]"
      ]
     },
     "execution_count": 24,
     "metadata": {},
     "output_type": "execute_result"
    }
   ],
   "source": [
    "predicted_stock_price_test_oriP"
   ]
  },
  {
   "cell_type": "code",
   "execution_count": 25,
   "id": "a50e861e-bd7b-42ab-803d-296454570573",
   "metadata": {},
   "outputs": [
    {
     "data": {
      "image/png": "[encoded data removed]",
      "text/plain": [
       "<Figure size 1000x500 with 1 Axes>"
      ]
     },
     "metadata": {},
     "output_type": "display_data"
    }
   ],
   "source": [
    "# Plot actual vs predicted values for original scale data\n",
    "plt.figure(figsize=(10, 5))\n",
    "plt.plot(actual_stock_price_test_oriA, color='blue', label=\"Actual\")\n",
    "plt.plot(predicted_stock_price_test_oriP, color='green', label=\"Predicted\")\n",
    "plt.title(\"AXISBANK-Close-AR-Ori\")\n",
    "plt.xlabel(\"Days\")\n",
    "plt.ylabel(\"Prices\")\n",
    "plt.legend()\n",
    "plt.show()"
   ]
  },
  {
   "cell_type": "code",
   "execution_count": 26,
   "id": "0f859ab2-954b-4714-8d0f-33b4ea819bd6",
   "metadata": {},
   "outputs": [
    {
     "name": "stdout",
     "output_type": "stream",
     "text": [
      "RMSE-Testset (Original): 14.664493390091087\n",
      "MAPE-Testset (Original): 0.011478325098814229\n",
      "R²-Testset (Original): 0.9931091715352924\n"
     ]
    }
   ],
   "source": [
    "# Calculate RMSE, MAPE, and R² for the original scale data\n",
    "rmse_ori = mean_squared_error(actual_stock_price_test_oriA, predicted_stock_price_test_oriP, squared=False)\n",
    "mape_ori = mean_absolute_percentage_error(actual_stock_price_test_oriA, predicted_stock_price_test_oriP)\n",
    "r2_ori = r2_score(actual_stock_price_test_oriA, predicted_stock_price_test_oriP)\n",
    "\n",
    "print(\"RMSE-Testset (Original):\", rmse_ori)\n",
    "print(\"MAPE-Testset (Original):\", mape_ori)\n",
    "print(\"R²-Testset (Original):\", r2_ori)"
   ]
  },
  {
   "cell_type": "markdown",
   "id": "fc83e3bd-afd1-4a4e-9a0f-32e85682952f",
   "metadata": {},
   "source": [
    "## Forecasting Future Prices"
   ]
  },
  {
   "cell_type": "code",
   "execution_count": 27,
   "id": "0b03b212-59c2-40ea-82bc-f9e4aa14d411",
   "metadata": {},
   "outputs": [],
   "source": [
    "# Use the model to forecast the next 3 days\n",
    "forecast = model_fit.predict(len(data1), len(data1) + 3)\n",
    "fTestNormTable = pd.DataFrame(forecast, columns=[\"Closefore\"])\n",
    "forecast_stock_price_test_ori = ms.inverse_transform(fTestNormTable)\n",
    "forecast_stock_price_test_oriF = pd.DataFrame(forecast_stock_price_test_ori, columns=[\"Closefore\"])"
   ]
  },
  {
   "cell_type": "code",
   "execution_count": 28,
   "id": "e53007b0-31ae-465a-a63e-fa38bdd60124",
   "metadata": {},
   "outputs": [
    {
     "data": {
      "text/plain": [
       "array([0.76626669, 0.76663487, 0.76630586, 0.76659986])"
      ]
     },
     "execution_count": 28,
     "metadata": {},
     "output_type": "execute_result"
    }
   ],
   "source": [
    "forecast"
   ]
  },
  {
   "cell_type": "code",
   "execution_count": 29,
   "id": "3fad4fe9-35c3-49d0-a751-3cf2ffb16442",
   "metadata": {},
   "outputs": [
    {
     "data": {
      "text/html": [
       "<div>\n",
       "<style scoped>\n",
       "    .dataframe tbody tr th:only-of-type {\n",
       "        vertical-align: middle;\n",
       "    }\n",
       "\n",
       "    .dataframe tbody tr th {\n",
       "        vertical-align: top;\n",
       "    }\n",
       "\n",
       "    .dataframe thead th {\n",
       "        text-align: right;\n",
       "    }\n",
       "</style>\n",
       "<table border=\"1\" class=\"dataframe\">\n",
       "  <thead>\n",
       "    <tr style=\"text-align: right;\">\n",
       "      <th></th>\n",
       "      <th>Closefore</th>\n",
       "    </tr>\n",
       "  </thead>\n",
       "  <tbody>\n",
       "    <tr>\n",
       "      <th>0</th>\n",
       "      <td>0.766267</td>\n",
       "    </tr>\n",
       "    <tr>\n",
       "      <th>1</th>\n",
       "      <td>0.766635</td>\n",
       "    </tr>\n",
       "    <tr>\n",
       "      <th>2</th>\n",
       "      <td>0.766306</td>\n",
       "    </tr>\n",
       "    <tr>\n",
       "      <th>3</th>\n",
       "      <td>0.766600</td>\n",
       "    </tr>\n",
       "  </tbody>\n",
       "</table>\n",
       "</div>"
      ],
      "text/plain": [
       "   Closefore\n",
       "0   0.766267\n",
       "1   0.766635\n",
       "2   0.766306\n",
       "3   0.766600"
      ]
     },
     "execution_count": 29,
     "metadata": {},
     "output_type": "execute_result"
    }
   ],
   "source": [
    "fTestNormTable"
   ]
  },
  {
   "cell_type": "code",
   "execution_count": 30,
   "id": "728a7b01-d948-43c7-b996-0955973d81ec",
   "metadata": {},
   "outputs": [
    {
     "data": {
      "text/plain": [
       "array([[1155.61501909],\n",
       "       [1155.86970334],\n",
       "       [1155.64211438],\n",
       "       [1155.84549067]])"
      ]
     },
     "execution_count": 30,
     "metadata": {},
     "output_type": "execute_result"
    }
   ],
   "source": [
    "forecast_stock_price_test_ori"
   ]
  },
  {
   "cell_type": "code",
   "execution_count": 31,
   "id": "9e09fb0f-f7c0-4fd2-aa61-33baf2b9c528",
   "metadata": {},
   "outputs": [
    {
     "data": {
      "text/html": [
       "<div>\n",
       "<style scoped>\n",
       "    .dataframe tbody tr th:only-of-type {\n",
       "        vertical-align: middle;\n",
       "    }\n",
       "\n",
       "    .dataframe tbody tr th {\n",
       "        vertical-align: top;\n",
       "    }\n",
       "\n",
       "    .dataframe thead th {\n",
       "        text-align: right;\n",
       "    }\n",
       "</style>\n",
       "<table border=\"1\" class=\"dataframe\">\n",
       "  <thead>\n",
       "    <tr style=\"text-align: right;\">\n",
       "      <th></th>\n",
       "      <th>Closefore</th>\n",
       "    </tr>\n",
       "  </thead>\n",
       "  <tbody>\n",
       "    <tr>\n",
       "      <th>0</th>\n",
       "      <td>1155.615019</td>\n",
       "    </tr>\n",
       "    <tr>\n",
       "      <th>1</th>\n",
       "      <td>1155.869703</td>\n",
       "    </tr>\n",
       "    <tr>\n",
       "      <th>2</th>\n",
       "      <td>1155.642114</td>\n",
       "    </tr>\n",
       "    <tr>\n",
       "      <th>3</th>\n",
       "      <td>1155.845491</td>\n",
       "    </tr>\n",
       "  </tbody>\n",
       "</table>\n",
       "</div>"
      ],
      "text/plain": [
       "     Closefore\n",
       "0  1155.615019\n",
       "1  1155.869703\n",
       "2  1155.642114\n",
       "3  1155.845491"
      ]
     },
     "execution_count": 31,
     "metadata": {},
     "output_type": "execute_result"
    }
   ],
   "source": [
    "forecast_stock_price_test_oriF"
   ]
  },
  {
   "cell_type": "code",
   "execution_count": null,
   "id": "c7631308-bb08-4e53-b675-2d721d613bbd",
   "metadata": {},
   "outputs": [],
   "source": []
  }
 ],
 "metadata": {
  "kernelspec": {
   "display_name": "Python 3 (ipykernel)",
   "language": "python",
   "name": "python3"
  },
  "language_info": {
   "codemirror_mode": {
    "name": "ipython",
    "version": 3
   },
   "file_extension": ".py",
   "mimetype": "text/x-python",
   "name": "python",
   "nbconvert_exporter": "python",
   "pygments_lexer": "ipython3",
   "version": "3.10.14"
  }
 },
 "nbformat": 4,
 "nbformat_minor": 5
}
